{
 "cells": [
  {
   "cell_type": "code",
   "execution_count": 5,
   "metadata": {},
   "outputs": [],
   "source": [
    "import geopandas as gpd\n",
    "import pandas as pd\n",
    "import matplotlib.pyplot as plt\n",
    "from shapely.geometry import Point\n",
    "import os\n",
    "import re \n",
    "\n",
    "\n",
    "year = 1989\n",
    "latitude = 55.67594\n",
    "longitude = 12.56553\n",
    "map_year = 1960\n",
    "\n",
    "city = 'Copenhagen'\n",
    "\n",
    "folder_path = \"C:/Users/Panuskova/Nextcloud/translation-mapping/historical-basemaps/geojson\"\n",
    "# Path to geojson\n",
    "geojson_path = folder_path + '/world_' + str(map_year)+ '.geojson'\n",
    "\n",
    "# Load the basemap GeoJSON file into a GeoDataFrame\n",
    "historical_basemap = gpd.read_file(geojson_path)\n",
    "# Create a Point geometry object from the coordinates\n",
    "point = Point(longitude, latitude)\n",
    "\n",
    "                # Iterate over each country's geometry and check if the point is within it\n",
    "for index, row in historical_basemap.iterrows():\n",
    "    if row['geometry'].contains(point):\n",
    "        country_name = row['NAME']\n",
    "        print(f\"{city} was in {str(year)} in {country_name}.\")\n",
    "        break"
   ]
  }
 ],
 "metadata": {
  "kernelspec": {
   "display_name": "Python 3",
   "language": "python",
   "name": "python3"
  },
  "language_info": {
   "codemirror_mode": {
    "name": "ipython",
    "version": 3
   },
   "file_extension": ".py",
   "mimetype": "text/x-python",
   "name": "python",
   "nbconvert_exporter": "python",
   "pygments_lexer": "ipython3",
   "version": "3.11.4"
  },
  "orig_nbformat": 4
 },
 "nbformat": 4,
 "nbformat_minor": 2
}
