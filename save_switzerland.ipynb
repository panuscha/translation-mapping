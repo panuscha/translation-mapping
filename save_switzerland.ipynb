{
 "cells": [
  {
   "cell_type": "code",
   "execution_count": 11,
   "metadata": {},
   "outputs": [],
   "source": [
    "import geopandas as gpd\n",
    "import pandas as pd\n",
    "import matplotlib.pyplot as plt\n",
    "import math\n",
    "import matplotlib.colors as colors"
   ]
  },
  {
   "cell_type": "code",
   "execution_count": 12,
   "metadata": {},
   "outputs": [
    {
     "name": "stdout",
     "output_type": "stream",
     "text": [
      "['Luxembourg', 'Korea, Republic of', 'Cyprus', 'Japan', 'Bhutan', 'Western Sahara', 'Qatar', 'United Arab Emirates', 'Taiwan', 'Mali', 'Oman', 'Niger', 'Chad', 'Vietnam', 'Cuba', 'Laos', 'United States', 'China', 'Haiti', 'Dominican Republic', 'Philippines', 'Puerto Rico', 'Jamaica', 'Burkina Faso', 'Nicaragua', 'Cambodia', 'Costa Rica', 'Central African Republic', 'Sierra Leone', 'Sri Lanka', 'Panama', 'Guyana', 'Liberia', 'Zaire', 'Tanzania, United Republic of', 'Rwanda', 'Burundi', 'Angola', 'Zambia', 'Malawi', 'Bolivia', 'Mozambique', 'Madagascar', 'Zimbabwe', 'Namibia', 'Chile', 'Botswana', 'Paraguay', 'South Africa', 'Swaziland', 'Lesotho', 'New Zealand', 'Argentina', 'Iceland', 'Estonia', 'Latvia', 'Lithuania', 'Byelarus', 'United Kingdom', 'Kazakhstan', 'Ireland', 'Ukraine', 'Mongolia', 'Belgium', 'Slovakia', 'Hungary', 'Moldova', 'Romania', 'Slovenia', 'Croatia', 'Serbia', 'Uzbekistan', 'Bosnia and Herzegovina', 'Bulgaria', 'Spain', 'Georgia', 'Montenegro', 'Kyrgyzstan', \"Korea, Democratic People's Republic of\", 'Turkmenistan', 'Albania', 'Macedonia', 'Portugal', 'Turkey', 'Azerbaijan', 'Greece', 'Armenia', 'Tajikistan', 'Iran', 'Afghanistan', 'Iraq', 'Syria', 'Tunisia', 'Algeria', 'Morocco', 'Lebanon', 'Mexico', 'Kuwait', 'Burma', 'Bangladesh', 'Thailand', 'Belize', 'Guatemala', 'Honduras', 'El Salvador', 'Colombia', 'Benin', 'Ghana', 'Togo', 'Ivory Coast', 'Malaysia', 'Suriname', 'French Guiana', 'Congo', 'Gabon', 'Equatorial Guinea', 'Ecuador', 'Peru', 'Brazil', 'Papua New Guinea', 'Australia', 'Uruguay', 'Denmark', 'Poland', 'Netherlands', 'Czech Republic', 'Nigeria', 'Cameroon', 'Pakistan', 'India', 'Jordan', 'Libya', 'Israel', 'Saudi Arabia', 'Egypt', 'Nepal', 'Mauritania', 'Sudan', 'Yemen', 'Eritrea', 'Senegal', 'Ethiopia', 'Gambia, The', 'Djibouti', 'Guinea-Bissau', 'Guinea', 'Venezuela', 'Somalia', 'Trinidad', 'Brunei', 'Kenya', 'Uganda', 'Indonesia', 'Greenland', 'Canada', 'Norway', 'Finland', 'Sweden', nan, 'Turkish Cypriot-administered area', 'Antigua and Barbuda', 'Barbados', 'Dominica', 'Grenada', 'Martinique', 'Montserrat', 'Anguilla', 'Saint Kitts and Nevis', 'Saint Lucia', 'Saint Vincent and the Grenadines', 'United States Virgin Islands', 'Guadeloupe', 'Netherlands Antilles', 'Saint Martin', 'Saint Barthelemy', nan, nan, 'Turks and Caicos Islands', 'Bahamas', 'United States', 'United States', '', 'Switzerland', 'Austria', 'Liechtenstein', 'Germany', 'Italy', nan, 'Malta', nan, nan, nan, nan, nan, nan, nan, nan, nan, nan, nan, nan, nan, nan, nan, nan, nan, nan, nan, nan, nan, nan, nan, nan, nan, nan, nan, nan, nan, nan, nan, nan, nan, nan, nan, nan, nan, nan, nan, 'Italy', 'France', 'Italy', 'Russia', 'American Samoa', 'Fiji', 'Niue', 'Tonga', 'Wallis and Futuna Islands', 'Samoa', 'Rapa Nui']\n",
      "['Luxembourg', 'Korea, Republic of', 'Cyprus', 'Japan', 'Bhutan', 'Western Sahara', 'Qatar', 'United Arab Emirates', 'Taiwan', 'Mali', 'Oman', 'Niger', 'Chad', 'Vietnam', 'Cuba', 'Laos', 'United States', 'China', 'Haiti', 'Dominican Republic', 'Philippines', 'Puerto Rico', 'Jamaica', 'Burkina Faso', 'Nicaragua', 'Cambodia', 'Costa Rica', 'Central African Republic', 'Sierra Leone', 'Sri Lanka', 'Panama', 'Guyana', 'Liberia', 'Zaire', 'Tanzania, United Republic of', 'Rwanda', 'Burundi', 'Angola', 'Zambia', 'Malawi', 'Bolivia', 'Mozambique', 'Madagascar', 'Zimbabwe', 'Namibia', 'Chile', 'Botswana', 'Paraguay', 'South Africa', 'Swaziland', 'Lesotho', 'New Zealand', 'Argentina', 'Iceland', 'Estonia', 'Latvia', 'Lithuania', 'Byelarus', 'United Kingdom', 'Kazakhstan', 'Ireland', 'Ukraine', 'Mongolia', 'Belgium', 'Slovakia', 'Hungary', 'Moldova', 'Romania', 'Slovenia', 'Croatia', 'Serbia', 'Uzbekistan', 'Bosnia and Herzegovina', 'Bulgaria', 'Spain', 'Georgia', 'Montenegro', 'Kyrgyzstan', \"Korea, Democratic People's Republic of\", 'Turkmenistan', 'Albania', 'Macedonia', 'Portugal', 'Turkey', 'Azerbaijan', 'Greece', 'Armenia', 'Tajikistan', 'Iran', 'Afghanistan', 'Iraq', 'Syria', 'Tunisia', 'Algeria', 'Morocco', 'Lebanon', 'Mexico', 'Kuwait', 'Burma', 'Bangladesh', 'Thailand', 'Belize', 'Guatemala', 'Honduras', 'El Salvador', 'Colombia', 'Benin', 'Ghana', 'Togo', 'Ivory Coast', 'Malaysia', 'Suriname', 'French Guiana', 'Congo', 'Gabon', 'Equatorial Guinea', 'Ecuador', 'Peru', 'Brazil', 'Papua New Guinea', 'Australia', 'Uruguay', 'Denmark', 'Poland', 'Netherlands', 'Czech Republic', 'Nigeria', 'Cameroon', 'Pakistan', 'India', 'Jordan', 'Libya', 'Israel', 'Saudi Arabia', 'Egypt', 'Nepal', 'Mauritania', 'Sudan', 'Yemen', 'Eritrea', 'Senegal', 'Ethiopia', 'Gambia, The', 'Djibouti', 'Guinea-Bissau', 'Guinea', 'Venezuela', 'Somalia', 'Trinidad', 'Brunei', 'Kenya', 'Uganda', 'Indonesia', 'Greenland', 'Canada', 'Russia', 'Norway', 'Finland', 'Sweden', nan, 'Turkish Cypriot-administered area', 'Russia', 'Antigua and Barbuda', 'Barbados', 'Dominica', 'Grenada', 'Martinique', 'Montserrat', 'Anguilla', 'Saint Kitts and Nevis', 'Saint Lucia', 'Saint Vincent and the Grenadines', 'United States Virgin Islands', 'Guadeloupe', 'Netherlands Antilles', 'Saint Martin', 'Saint Barthelemy', nan, nan, 'Turks and Caicos Islands', 'Bahamas', 'United States', 'United States', '', 'Switzerland', 'Austria', 'Liechtenstein', 'Germany', 'Italy', nan, 'Malta', nan, nan, nan, nan, nan, nan, nan, nan, nan, nan, nan, nan, nan, nan, nan, nan, nan, nan, nan, nan, nan, nan, nan, nan, nan, nan, nan, nan, nan, nan, nan, nan, nan, nan, nan, nan, nan, nan, nan, 'Italy', 'France', 'Italy', 'American Samoa', 'Fiji', 'Niue', 'Tonga', 'Wallis and Futuna Islands', 'Samoa', 'Rapa Nui']\n",
      "['Luxembourg', 'Korea, Republic of', 'Cyprus', 'Japan', 'Bhutan', 'Western Sahara', 'Qatar', 'United Arab Emirates', 'Taiwan', 'Mali', 'Oman', 'Niger', 'Chad', 'Vietnam', 'Cuba', 'Laos', 'United States', 'China', 'Haiti', 'Dominican Republic', 'Philippines', 'Puerto Rico', 'Jamaica', 'Burkina Faso', 'Nicaragua', 'Cambodia', 'Costa Rica', 'Central African Republic', 'Sierra Leone', 'Sri Lanka', 'Panama', 'Guyana', 'Liberia', 'Zaire', 'Tanzania, United Republic of', 'Rwanda', 'Burundi', 'Angola', 'Zambia', 'Malawi', 'Bolivia', 'Mozambique', 'Madagascar', 'Zimbabwe', 'Namibia', 'Chile', 'Botswana', 'Paraguay', 'South Africa', 'Swaziland', 'Lesotho', 'New Zealand', 'Argentina', 'Iceland', 'Estonia', 'Latvia', 'Lithuania', 'Byelarus', 'United Kingdom', 'Kazakhstan', 'Ireland', 'Ukraine', 'Mongolia', 'Belgium', 'Slovakia', 'Hungary', 'Moldova', 'Romania', 'Slovenia', 'Croatia', 'Serbia', 'Uzbekistan', 'Bosnia and Herzegovina', 'Bulgaria', 'Spain', 'Georgia', 'Montenegro', 'Kyrgyzstan', \"Korea, Democratic People's Republic of\", 'Turkmenistan', 'Albania', 'Macedonia', 'Portugal', 'Turkey', 'Azerbaijan', 'Greece', 'Armenia', 'Tajikistan', 'Iran', 'Afghanistan', 'Iraq', 'Syria', 'Tunisia', 'Algeria', 'Morocco', 'Lebanon', 'Mexico', 'Kuwait', 'Burma', 'Bangladesh', 'Thailand', 'Belize', 'Guatemala', 'Honduras', 'El Salvador', 'Colombia', 'Benin', 'Ghana', 'Togo', 'Ivory Coast', 'Malaysia', 'Suriname', 'French Guiana', 'Congo', 'Gabon', 'Equatorial Guinea', 'Ecuador', 'Peru', 'Brazil', 'Papua New Guinea', 'Australia', 'Uruguay', 'Denmark', 'Poland', 'Netherlands', 'Czech Republic', 'Nigeria', 'Cameroon', 'Pakistan', 'India', 'Jordan', 'Libya', 'Israel', 'Saudi Arabia', 'Egypt', 'Nepal', 'Mauritania', 'Sudan', 'Yemen', 'Eritrea', 'Senegal', 'Ethiopia', 'Gambia, The', 'Djibouti', 'Guinea-Bissau', 'Guinea', 'Venezuela', 'Somalia', 'Trinidad', 'Brunei', 'Kenya', 'Uganda', 'Indonesia', 'Greenland', 'Canada', 'Russia', 'Norway', 'Finland', 'Sweden', nan, 'Turkish Cypriot-administered area', 'Russia', 'Antigua and Barbuda', 'Barbados', 'Dominica', 'Grenada', 'Martinique', 'Montserrat', 'Anguilla', 'Saint Kitts and Nevis', 'Saint Lucia', 'Saint Vincent and the Grenadines', 'United States Virgin Islands', 'Guadeloupe', 'Netherlands Antilles', 'Saint Martin', 'Saint Barthelemy', nan, nan, 'Turks and Caicos Islands', 'Bahamas', 'United States', 'United States', '', 'Switzerland', 'Austria', 'Liechtenstein', 'Germany', 'Italy', nan, 'Malta', nan, nan, nan, nan, nan, nan, nan, nan, nan, nan, nan, nan, nan, nan, nan, nan, nan, nan, nan, nan, nan, nan, nan, nan, nan, nan, nan, nan, nan, nan, nan, nan, nan, nan, nan, nan, nan, nan, nan, 'Italy', 'France', 'Italy', 'American Samoa', 'Fiji', 'Niue', 'Tonga', 'Wallis and Futuna Islands', 'Samoa', 'Rapa Nui']\n"
     ]
    }
   ],
   "source": [
    "folder_path = \"C:/Users/Panuskova/Nextcloud/translation-mapping/historical-basemaps/years\"\n",
    "\n",
    "for y in [1989, 2000, 2011]:\n",
    "# Load the GeoJSON map\n",
    "    geojson_path = folder_path + '/world_' + str(y) + '.geojson' \n",
    "    gdf = gpd.read_file(geojson_path)\n",
    "    print(list(gdf.NAME))\n",
    "    gdf.loc[gdf.NAME == 'Switzerland','NAME'] = 'not Switzerland'\n",
    "    #gdf = gdf.loc[gdf.NAME != 'Switzerland']\n",
    "    gdf.loc[gdf.NAME == '','NAME'] = 'Switzerland'\n",
    "    gdf.to_file(geojson_path, driver='GeoJSON') "
   ]
  }
 ],
 "metadata": {
  "kernelspec": {
   "display_name": "Python 3",
   "language": "python",
   "name": "python3"
  },
  "language_info": {
   "codemirror_mode": {
    "name": "ipython",
    "version": 3
   },
   "file_extension": ".py",
   "mimetype": "text/x-python",
   "name": "python",
   "nbconvert_exporter": "python",
   "pygments_lexer": "ipython3",
   "version": "3.11.4"
  },
  "orig_nbformat": 4
 },
 "nbformat": 4,
 "nbformat_minor": 2
}
